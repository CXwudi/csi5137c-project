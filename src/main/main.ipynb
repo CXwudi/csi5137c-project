{
 "cells": [
  {
   "cell_type": "code",
   "execution_count": 2,
   "metadata": {},
   "outputs": [
    {
     "name": "stdout",
     "output_type": "stream",
     "text": [
      "Requirement already satisfied: nltk in /home/linuxbrew/.linuxbrew/lib/python3.10/site-packages (from -r requirements.txt (line 1)) (3.7)\n",
      "Requirement already satisfied: numpy in /home/cxwudi/.local/lib/python3.10/site-packages (from -r requirements.txt (line 2)) (1.22.2)\n",
      "Requirement already satisfied: tqdm in /home/linuxbrew/.linuxbrew/lib/python3.10/site-packages (from nltk->-r requirements.txt (line 1)) (4.64.1)\n",
      "Requirement already satisfied: joblib in /home/linuxbrew/.linuxbrew/lib/python3.10/site-packages (from nltk->-r requirements.txt (line 1)) (1.2.0)\n",
      "Requirement already satisfied: click in /home/cxwudi/.local/lib/python3.10/site-packages (from nltk->-r requirements.txt (line 1)) (8.0.4)\n",
      "Requirement already satisfied: regex>=2021.8.3 in /home/linuxbrew/.linuxbrew/lib/python3.10/site-packages (from nltk->-r requirements.txt (line 1)) (2022.9.13)\n"
     ]
    }
   ],
   "source": [
    "# Install pip packages from requirements.txt into this current Jupyter kernel\n",
    "import sys\n",
    "!{sys.executable} -m pip install -r requirements.txt"
   ]
  }
 ],
 "metadata": {
  "kernelspec": {
   "display_name": "Python 3.10.8 64-bit",
   "language": "python",
   "name": "python3"
  },
  "language_info": {
   "codemirror_mode": {
    "name": "ipython",
    "version": 3
   },
   "file_extension": ".py",
   "mimetype": "text/x-python",
   "name": "python",
   "nbconvert_exporter": "python",
   "pygments_lexer": "ipython3",
   "version": "3.10.8"
  },
  "orig_nbformat": 4,
  "vscode": {
   "interpreter": {
    "hash": "f6870690490e3c0b79a7286ec00ecb825c75548ae32182ac36fecd476740644e"
   }
  }
 },
 "nbformat": 4,
 "nbformat_minor": 2
}
