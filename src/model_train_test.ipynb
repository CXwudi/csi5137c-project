{
 "cells": [
  {
   "cell_type": "code",
   "execution_count": 1,
   "metadata": {},
   "outputs": [
    {
     "name": "stdout",
     "output_type": "stream",
     "text": [
      "Requirement already satisfied: nltk in c:\\users\\ar156\\appdata\\local\\programs\\python\\python39\\lib\\site-packages (from -r requirements.txt (line 1)) (3.6.5)\n",
      "Requirement already satisfied: numpy in c:\\users\\ar156\\appdata\\local\\programs\\python\\python39\\lib\\site-packages (from -r requirements.txt (line 2)) (1.20.3)\n",
      "Requirement already satisfied: pandas in c:\\users\\ar156\\appdata\\local\\programs\\python\\python39\\lib\\site-packages (from -r requirements.txt (line 3)) (1.2.4)\n",
      "Requirement already satisfied: pyspellchecker in c:\\users\\ar156\\appdata\\local\\programs\\python\\python39\\lib\\site-packages (from -r requirements.txt (line 4)) (0.7.1)\n",
      "Requirement already satisfied: emoji in c:\\users\\ar156\\appdata\\local\\programs\\python\\python39\\lib\\site-packages (from -r requirements.txt (line 5)) (2.2.0)\n",
      "Requirement already satisfied: praw in c:\\users\\ar156\\appdata\\local\\programs\\python\\python39\\lib\\site-packages (from -r requirements.txt (line 6)) (7.6.1)\n",
      "Requirement already satisfied: click in c:\\users\\ar156\\appdata\\local\\programs\\python\\python39\\lib\\site-packages (from nltk->-r requirements.txt (line 1)) (8.0.1)\n",
      "Requirement already satisfied: tqdm in c:\\users\\ar156\\appdata\\local\\programs\\python\\python39\\lib\\site-packages (from nltk->-r requirements.txt (line 1)) (4.62.3)\n",
      "Requirement already satisfied: regex>=2021.8.3 in c:\\users\\ar156\\appdata\\local\\programs\\python\\python39\\lib\\site-packages (from nltk->-r requirements.txt (line 1)) (2021.11.10)\n",
      "Requirement already satisfied: joblib in c:\\users\\ar156\\appdata\\local\\programs\\python\\python39\\lib\\site-packages (from nltk->-r requirements.txt (line 1)) (1.2.0)\n",
      "Requirement already satisfied: pytz>=2017.3 in c:\\users\\ar156\\appdata\\local\\programs\\python\\python39\\lib\\site-packages (from pandas->-r requirements.txt (line 3)) (2021.1)\n",
      "Requirement already satisfied: python-dateutil>=2.7.3 in c:\\users\\ar156\\appdata\\local\\programs\\python\\python39\\lib\\site-packages (from pandas->-r requirements.txt (line 3)) (2.8.1)\n",
      "Requirement already satisfied: websocket-client>=0.54.0 in c:\\users\\ar156\\appdata\\local\\programs\\python\\python39\\lib\\site-packages (from praw->-r requirements.txt (line 6)) (1.4.2)\n",
      "Requirement already satisfied: prawcore<3,>=2.1 in c:\\users\\ar156\\appdata\\local\\programs\\python\\python39\\lib\\site-packages (from praw->-r requirements.txt (line 6)) (2.3.0)\n",
      "Requirement already satisfied: update-checker>=0.18 in c:\\users\\ar156\\appdata\\local\\programs\\python\\python39\\lib\\site-packages (from praw->-r requirements.txt (line 6)) (0.18.0)\n",
      "Requirement already satisfied: requests<3.0,>=2.6.0 in c:\\users\\ar156\\appdata\\local\\programs\\python\\python39\\lib\\site-packages (from prawcore<3,>=2.1->praw->-r requirements.txt (line 6)) (2.25.1)\n",
      "Requirement already satisfied: six>=1.5 in c:\\users\\ar156\\appdata\\local\\programs\\python\\python39\\lib\\site-packages (from python-dateutil>=2.7.3->pandas->-r requirements.txt (line 3)) (1.16.0)\n",
      "Requirement already satisfied: colorama in c:\\users\\ar156\\appdata\\local\\programs\\python\\python39\\lib\\site-packages (from click->nltk->-r requirements.txt (line 1)) (0.4.4)\n",
      "Requirement already satisfied: chardet<5,>=3.0.2 in c:\\users\\ar156\\appdata\\local\\programs\\python\\python39\\lib\\site-packages (from requests<3.0,>=2.6.0->prawcore<3,>=2.1->praw->-r requirements.txt (line 6)) (4.0.0)\n",
      "Requirement already satisfied: certifi>=2017.4.17 in c:\\users\\ar156\\appdata\\local\\programs\\python\\python39\\lib\\site-packages (from requests<3.0,>=2.6.0->prawcore<3,>=2.1->praw->-r requirements.txt (line 6)) (2021.5.30)\n",
      "Requirement already satisfied: idna<3,>=2.5 in c:\\users\\ar156\\appdata\\local\\programs\\python\\python39\\lib\\site-packages (from requests<3.0,>=2.6.0->prawcore<3,>=2.1->praw->-r requirements.txt (line 6)) (2.10)\n",
      "Requirement already satisfied: urllib3<1.27,>=1.21.1 in c:\\users\\ar156\\appdata\\local\\programs\\python\\python39\\lib\\site-packages (from requests<3.0,>=2.6.0->prawcore<3,>=2.1->praw->-r requirements.txt (line 6)) (1.26.5)\n"
     ]
    },
    {
     "name": "stderr",
     "output_type": "stream",
     "text": [
      "WARNING: There was an error checking the latest version of pip.\n"
     ]
    }
   ],
   "source": [
    "# Install pip packages from requirements.txt into this current Jupyter kernel\n",
    "import sys\n",
    "!{sys.executable} -m pip install -r requirements.txt\n",
    "import pandas as pd"
   ]
  },
  {
   "cell_type": "markdown",
   "metadata": {},
   "source": [
    "## Training part"
   ]
  },
  {
   "cell_type": "code",
   "execution_count": 15,
   "metadata": {},
   "outputs": [
    {
     "data": {
      "text/html": [
       "<div>\n",
       "<style scoped>\n",
       "    .dataframe tbody tr th:only-of-type {\n",
       "        vertical-align: middle;\n",
       "    }\n",
       "\n",
       "    .dataframe tbody tr th {\n",
       "        vertical-align: top;\n",
       "    }\n",
       "\n",
       "    .dataframe thead th {\n",
       "        text-align: right;\n",
       "    }\n",
       "</style>\n",
       "<table border=\"1\" class=\"dataframe\">\n",
       "  <thead>\n",
       "    <tr style=\"text-align: right;\">\n",
       "      <th></th>\n",
       "      <th>no.Comments</th>\n",
       "      <th>ups</th>\n",
       "      <th>title_enter</th>\n",
       "      <th>title_scenario</th>\n",
       "      <th>title_download</th>\n",
       "      <th>title_verification</th>\n",
       "      <th>title_learning</th>\n",
       "      <th>title_dialogue</th>\n",
       "      <th>title_ban</th>\n",
       "      <th>title_laptop</th>\n",
       "      <th>...</th>\n",
       "      <th>merged_comments_concise</th>\n",
       "      <th>merged_comments_good</th>\n",
       "      <th>merged_comments_feature</th>\n",
       "      <th>merged_comments_instar</th>\n",
       "      <th>merged_comments_nearly</th>\n",
       "      <th>merged_comments_nmatchnmatch</th>\n",
       "      <th>merged_comments_illustrate</th>\n",
       "      <th>merged_comments_familiar</th>\n",
       "      <th>merged_comments_reference</th>\n",
       "      <th>tag</th>\n",
       "    </tr>\n",
       "  </thead>\n",
       "  <tbody>\n",
       "    <tr>\n",
       "      <th>0</th>\n",
       "      <td>48</td>\n",
       "      <td>637</td>\n",
       "      <td>0.0</td>\n",
       "      <td>0.0</td>\n",
       "      <td>0.0</td>\n",
       "      <td>0.0</td>\n",
       "      <td>0.0</td>\n",
       "      <td>0.0</td>\n",
       "      <td>0.0</td>\n",
       "      <td>0.0</td>\n",
       "      <td>...</td>\n",
       "      <td>0.0</td>\n",
       "      <td>0.0</td>\n",
       "      <td>0.0</td>\n",
       "      <td>0.0</td>\n",
       "      <td>0.0</td>\n",
       "      <td>0.0</td>\n",
       "      <td>0.0</td>\n",
       "      <td>0.0</td>\n",
       "      <td>0.0</td>\n",
       "      <td>0</td>\n",
       "    </tr>\n",
       "    <tr>\n",
       "      <th>1</th>\n",
       "      <td>15</td>\n",
       "      <td>448</td>\n",
       "      <td>0.0</td>\n",
       "      <td>0.0</td>\n",
       "      <td>0.0</td>\n",
       "      <td>0.0</td>\n",
       "      <td>0.0</td>\n",
       "      <td>0.0</td>\n",
       "      <td>0.0</td>\n",
       "      <td>0.0</td>\n",
       "      <td>...</td>\n",
       "      <td>0.0</td>\n",
       "      <td>0.0</td>\n",
       "      <td>0.0</td>\n",
       "      <td>0.0</td>\n",
       "      <td>0.0</td>\n",
       "      <td>0.0</td>\n",
       "      <td>0.0</td>\n",
       "      <td>0.0</td>\n",
       "      <td>0.0</td>\n",
       "      <td>1</td>\n",
       "    </tr>\n",
       "    <tr>\n",
       "      <th>2</th>\n",
       "      <td>51</td>\n",
       "      <td>424</td>\n",
       "      <td>0.0</td>\n",
       "      <td>0.0</td>\n",
       "      <td>0.0</td>\n",
       "      <td>0.0</td>\n",
       "      <td>0.0</td>\n",
       "      <td>0.0</td>\n",
       "      <td>0.0</td>\n",
       "      <td>0.0</td>\n",
       "      <td>...</td>\n",
       "      <td>0.0</td>\n",
       "      <td>0.0</td>\n",
       "      <td>0.0</td>\n",
       "      <td>0.0</td>\n",
       "      <td>0.0</td>\n",
       "      <td>0.0</td>\n",
       "      <td>0.0</td>\n",
       "      <td>0.0</td>\n",
       "      <td>0.0</td>\n",
       "      <td>0</td>\n",
       "    </tr>\n",
       "    <tr>\n",
       "      <th>3</th>\n",
       "      <td>24</td>\n",
       "      <td>360</td>\n",
       "      <td>0.0</td>\n",
       "      <td>0.0</td>\n",
       "      <td>0.0</td>\n",
       "      <td>0.0</td>\n",
       "      <td>0.0</td>\n",
       "      <td>0.0</td>\n",
       "      <td>0.0</td>\n",
       "      <td>0.0</td>\n",
       "      <td>...</td>\n",
       "      <td>0.0</td>\n",
       "      <td>0.0</td>\n",
       "      <td>0.0</td>\n",
       "      <td>0.0</td>\n",
       "      <td>0.0</td>\n",
       "      <td>0.0</td>\n",
       "      <td>0.0</td>\n",
       "      <td>0.0</td>\n",
       "      <td>0.0</td>\n",
       "      <td>0</td>\n",
       "    </tr>\n",
       "    <tr>\n",
       "      <th>4</th>\n",
       "      <td>60</td>\n",
       "      <td>300</td>\n",
       "      <td>0.0</td>\n",
       "      <td>0.0</td>\n",
       "      <td>0.0</td>\n",
       "      <td>0.0</td>\n",
       "      <td>0.0</td>\n",
       "      <td>0.0</td>\n",
       "      <td>0.0</td>\n",
       "      <td>0.0</td>\n",
       "      <td>...</td>\n",
       "      <td>0.0</td>\n",
       "      <td>0.0</td>\n",
       "      <td>0.0</td>\n",
       "      <td>0.0</td>\n",
       "      <td>0.0</td>\n",
       "      <td>0.0</td>\n",
       "      <td>0.0</td>\n",
       "      <td>0.0</td>\n",
       "      <td>0.0</td>\n",
       "      <td>0</td>\n",
       "    </tr>\n",
       "    <tr>\n",
       "      <th>...</th>\n",
       "      <td>...</td>\n",
       "      <td>...</td>\n",
       "      <td>...</td>\n",
       "      <td>...</td>\n",
       "      <td>...</td>\n",
       "      <td>...</td>\n",
       "      <td>...</td>\n",
       "      <td>...</td>\n",
       "      <td>...</td>\n",
       "      <td>...</td>\n",
       "      <td>...</td>\n",
       "      <td>...</td>\n",
       "      <td>...</td>\n",
       "      <td>...</td>\n",
       "      <td>...</td>\n",
       "      <td>...</td>\n",
       "      <td>...</td>\n",
       "      <td>...</td>\n",
       "      <td>...</td>\n",
       "      <td>...</td>\n",
       "      <td>...</td>\n",
       "    </tr>\n",
       "    <tr>\n",
       "      <th>1909</th>\n",
       "      <td>3</td>\n",
       "      <td>4</td>\n",
       "      <td>0.0</td>\n",
       "      <td>0.0</td>\n",
       "      <td>0.0</td>\n",
       "      <td>0.0</td>\n",
       "      <td>0.0</td>\n",
       "      <td>0.0</td>\n",
       "      <td>0.0</td>\n",
       "      <td>0.0</td>\n",
       "      <td>...</td>\n",
       "      <td>0.0</td>\n",
       "      <td>0.0</td>\n",
       "      <td>0.0</td>\n",
       "      <td>0.0</td>\n",
       "      <td>0.0</td>\n",
       "      <td>0.0</td>\n",
       "      <td>0.0</td>\n",
       "      <td>0.0</td>\n",
       "      <td>0.0</td>\n",
       "      <td>0</td>\n",
       "    </tr>\n",
       "    <tr>\n",
       "      <th>1910</th>\n",
       "      <td>4</td>\n",
       "      <td>3</td>\n",
       "      <td>0.0</td>\n",
       "      <td>0.0</td>\n",
       "      <td>0.0</td>\n",
       "      <td>0.0</td>\n",
       "      <td>0.0</td>\n",
       "      <td>0.0</td>\n",
       "      <td>0.0</td>\n",
       "      <td>0.0</td>\n",
       "      <td>...</td>\n",
       "      <td>0.0</td>\n",
       "      <td>0.0</td>\n",
       "      <td>0.0</td>\n",
       "      <td>0.0</td>\n",
       "      <td>0.0</td>\n",
       "      <td>0.0</td>\n",
       "      <td>0.0</td>\n",
       "      <td>0.0</td>\n",
       "      <td>0.0</td>\n",
       "      <td>0</td>\n",
       "    </tr>\n",
       "    <tr>\n",
       "      <th>1911</th>\n",
       "      <td>4</td>\n",
       "      <td>5</td>\n",
       "      <td>0.0</td>\n",
       "      <td>0.0</td>\n",
       "      <td>0.0</td>\n",
       "      <td>0.0</td>\n",
       "      <td>0.0</td>\n",
       "      <td>0.0</td>\n",
       "      <td>0.0</td>\n",
       "      <td>0.0</td>\n",
       "      <td>...</td>\n",
       "      <td>0.0</td>\n",
       "      <td>0.0</td>\n",
       "      <td>0.0</td>\n",
       "      <td>0.0</td>\n",
       "      <td>0.0</td>\n",
       "      <td>0.0</td>\n",
       "      <td>0.0</td>\n",
       "      <td>0.0</td>\n",
       "      <td>0.0</td>\n",
       "      <td>2</td>\n",
       "    </tr>\n",
       "    <tr>\n",
       "      <th>1912</th>\n",
       "      <td>2</td>\n",
       "      <td>3</td>\n",
       "      <td>0.0</td>\n",
       "      <td>0.0</td>\n",
       "      <td>0.0</td>\n",
       "      <td>0.0</td>\n",
       "      <td>0.0</td>\n",
       "      <td>0.0</td>\n",
       "      <td>0.0</td>\n",
       "      <td>0.0</td>\n",
       "      <td>...</td>\n",
       "      <td>0.0</td>\n",
       "      <td>0.0</td>\n",
       "      <td>0.0</td>\n",
       "      <td>0.0</td>\n",
       "      <td>0.0</td>\n",
       "      <td>0.0</td>\n",
       "      <td>0.0</td>\n",
       "      <td>0.0</td>\n",
       "      <td>0.0</td>\n",
       "      <td>2</td>\n",
       "    </tr>\n",
       "    <tr>\n",
       "      <th>1913</th>\n",
       "      <td>1</td>\n",
       "      <td>3</td>\n",
       "      <td>0.0</td>\n",
       "      <td>0.0</td>\n",
       "      <td>0.0</td>\n",
       "      <td>0.0</td>\n",
       "      <td>0.0</td>\n",
       "      <td>0.0</td>\n",
       "      <td>0.0</td>\n",
       "      <td>0.0</td>\n",
       "      <td>...</td>\n",
       "      <td>0.0</td>\n",
       "      <td>0.0</td>\n",
       "      <td>0.0</td>\n",
       "      <td>0.0</td>\n",
       "      <td>0.0</td>\n",
       "      <td>0.0</td>\n",
       "      <td>0.0</td>\n",
       "      <td>0.0</td>\n",
       "      <td>0.0</td>\n",
       "      <td>0</td>\n",
       "    </tr>\n",
       "  </tbody>\n",
       "</table>\n",
       "<p>1914 rows × 7596 columns</p>\n",
       "</div>"
      ],
      "text/plain": [
       "      no.Comments  ups  title_enter  title_scenario  title_download  \\\n",
       "0              48  637          0.0             0.0             0.0   \n",
       "1              15  448          0.0             0.0             0.0   \n",
       "2              51  424          0.0             0.0             0.0   \n",
       "3              24  360          0.0             0.0             0.0   \n",
       "4              60  300          0.0             0.0             0.0   \n",
       "...           ...  ...          ...             ...             ...   \n",
       "1909            3    4          0.0             0.0             0.0   \n",
       "1910            4    3          0.0             0.0             0.0   \n",
       "1911            4    5          0.0             0.0             0.0   \n",
       "1912            2    3          0.0             0.0             0.0   \n",
       "1913            1    3          0.0             0.0             0.0   \n",
       "\n",
       "      title_verification  title_learning  title_dialogue  title_ban  \\\n",
       "0                    0.0             0.0             0.0        0.0   \n",
       "1                    0.0             0.0             0.0        0.0   \n",
       "2                    0.0             0.0             0.0        0.0   \n",
       "3                    0.0             0.0             0.0        0.0   \n",
       "4                    0.0             0.0             0.0        0.0   \n",
       "...                  ...             ...             ...        ...   \n",
       "1909                 0.0             0.0             0.0        0.0   \n",
       "1910                 0.0             0.0             0.0        0.0   \n",
       "1911                 0.0             0.0             0.0        0.0   \n",
       "1912                 0.0             0.0             0.0        0.0   \n",
       "1913                 0.0             0.0             0.0        0.0   \n",
       "\n",
       "      title_laptop  ...  merged_comments_concise  merged_comments_good  \\\n",
       "0              0.0  ...                      0.0                   0.0   \n",
       "1              0.0  ...                      0.0                   0.0   \n",
       "2              0.0  ...                      0.0                   0.0   \n",
       "3              0.0  ...                      0.0                   0.0   \n",
       "4              0.0  ...                      0.0                   0.0   \n",
       "...            ...  ...                      ...                   ...   \n",
       "1909           0.0  ...                      0.0                   0.0   \n",
       "1910           0.0  ...                      0.0                   0.0   \n",
       "1911           0.0  ...                      0.0                   0.0   \n",
       "1912           0.0  ...                      0.0                   0.0   \n",
       "1913           0.0  ...                      0.0                   0.0   \n",
       "\n",
       "      merged_comments_feature  merged_comments_instar  merged_comments_nearly  \\\n",
       "0                         0.0                     0.0                     0.0   \n",
       "1                         0.0                     0.0                     0.0   \n",
       "2                         0.0                     0.0                     0.0   \n",
       "3                         0.0                     0.0                     0.0   \n",
       "4                         0.0                     0.0                     0.0   \n",
       "...                       ...                     ...                     ...   \n",
       "1909                      0.0                     0.0                     0.0   \n",
       "1910                      0.0                     0.0                     0.0   \n",
       "1911                      0.0                     0.0                     0.0   \n",
       "1912                      0.0                     0.0                     0.0   \n",
       "1913                      0.0                     0.0                     0.0   \n",
       "\n",
       "      merged_comments_nmatchnmatch  merged_comments_illustrate  \\\n",
       "0                              0.0                         0.0   \n",
       "1                              0.0                         0.0   \n",
       "2                              0.0                         0.0   \n",
       "3                              0.0                         0.0   \n",
       "4                              0.0                         0.0   \n",
       "...                            ...                         ...   \n",
       "1909                           0.0                         0.0   \n",
       "1910                           0.0                         0.0   \n",
       "1911                           0.0                         0.0   \n",
       "1912                           0.0                         0.0   \n",
       "1913                           0.0                         0.0   \n",
       "\n",
       "      merged_comments_familiar  merged_comments_reference  tag  \n",
       "0                          0.0                        0.0    0  \n",
       "1                          0.0                        0.0    1  \n",
       "2                          0.0                        0.0    0  \n",
       "3                          0.0                        0.0    0  \n",
       "4                          0.0                        0.0    0  \n",
       "...                        ...                        ...  ...  \n",
       "1909                       0.0                        0.0    0  \n",
       "1910                       0.0                        0.0    0  \n",
       "1911                       0.0                        0.0    2  \n",
       "1912                       0.0                        0.0    2  \n",
       "1913                       0.0                        0.0    0  \n",
       "\n",
       "[1914 rows x 7596 columns]"
      ]
     },
     "execution_count": 15,
     "metadata": {},
     "output_type": "execute_result"
    }
   ],
   "source": [
    "trainable_dataset = pd.read_csv('../data/trainable_dataset.csv')\n",
    "trainable_dataset"
   ]
  },
  {
   "cell_type": "code",
   "execution_count": 16,
   "metadata": {},
   "outputs": [
    {
     "data": {
      "text/html": [
       "<div>\n",
       "<style scoped>\n",
       "    .dataframe tbody tr th:only-of-type {\n",
       "        vertical-align: middle;\n",
       "    }\n",
       "\n",
       "    .dataframe tbody tr th {\n",
       "        vertical-align: top;\n",
       "    }\n",
       "\n",
       "    .dataframe thead th {\n",
       "        text-align: right;\n",
       "    }\n",
       "</style>\n",
       "<table border=\"1\" class=\"dataframe\">\n",
       "  <thead>\n",
       "    <tr style=\"text-align: right;\">\n",
       "      <th></th>\n",
       "      <th>date</th>\n",
       "      <th>id</th>\n",
       "      <th>no.Comments</th>\n",
       "      <th>score</th>\n",
       "      <th>upvote ratio</th>\n",
       "      <th>ups</th>\n",
       "      <th>downs</th>\n",
       "      <th>title</th>\n",
       "      <th>selftext</th>\n",
       "      <th>tag</th>\n",
       "      <th>...</th>\n",
       "      <th>Unnamed: 217</th>\n",
       "      <th>Unnamed: 218</th>\n",
       "      <th>Unnamed: 219</th>\n",
       "      <th>Unnamed: 220</th>\n",
       "      <th>Unnamed: 221</th>\n",
       "      <th>Unnamed: 222</th>\n",
       "      <th>Unnamed: 223</th>\n",
       "      <th>Unnamed: 224</th>\n",
       "      <th>Unnamed: 225</th>\n",
       "      <th>Unnamed: 226</th>\n",
       "    </tr>\n",
       "  </thead>\n",
       "  <tbody>\n",
       "    <tr>\n",
       "      <th>0</th>\n",
       "      <td>2019-08-28 14:14:32</td>\n",
       "      <td>cwle38</td>\n",
       "      <td>48</td>\n",
       "      <td>637</td>\n",
       "      <td>0.98</td>\n",
       "      <td>637</td>\n",
       "      <td>0</td>\n",
       "      <td>For anyone who's ever edited a video ever, enjoy.</td>\n",
       "      <td>NaN</td>\n",
       "      <td>0</td>\n",
       "      <td>...</td>\n",
       "      <td>NaN</td>\n",
       "      <td>NaN</td>\n",
       "      <td>NaN</td>\n",
       "      <td>NaN</td>\n",
       "      <td>NaN</td>\n",
       "      <td>NaN</td>\n",
       "      <td>NaN</td>\n",
       "      <td>NaN</td>\n",
       "      <td>NaN</td>\n",
       "      <td>NaN</td>\n",
       "    </tr>\n",
       "    <tr>\n",
       "      <th>1</th>\n",
       "      <td>2019-07-03 19:02:44</td>\n",
       "      <td>c8s3x2</td>\n",
       "      <td>15</td>\n",
       "      <td>448</td>\n",
       "      <td>0.97</td>\n",
       "      <td>448</td>\n",
       "      <td>0</td>\n",
       "      <td>Media Offline</td>\n",
       "      <td>NaN</td>\n",
       "      <td>1</td>\n",
       "      <td>...</td>\n",
       "      <td>NaN</td>\n",
       "      <td>NaN</td>\n",
       "      <td>NaN</td>\n",
       "      <td>NaN</td>\n",
       "      <td>NaN</td>\n",
       "      <td>NaN</td>\n",
       "      <td>NaN</td>\n",
       "      <td>NaN</td>\n",
       "      <td>NaN</td>\n",
       "      <td>NaN</td>\n",
       "    </tr>\n",
       "    <tr>\n",
       "      <th>2</th>\n",
       "      <td>2020-01-06 15:30:11</td>\n",
       "      <td>ekvldh</td>\n",
       "      <td>51</td>\n",
       "      <td>424</td>\n",
       "      <td>0.96</td>\n",
       "      <td>424</td>\n",
       "      <td>0</td>\n",
       "      <td>Adobe Premiere youtuber starterpack.</td>\n",
       "      <td>NaN</td>\n",
       "      <td>0</td>\n",
       "      <td>...</td>\n",
       "      <td>NaN</td>\n",
       "      <td>NaN</td>\n",
       "      <td>NaN</td>\n",
       "      <td>NaN</td>\n",
       "      <td>NaN</td>\n",
       "      <td>NaN</td>\n",
       "      <td>NaN</td>\n",
       "      <td>NaN</td>\n",
       "      <td>NaN</td>\n",
       "      <td>NaN</td>\n",
       "    </tr>\n",
       "    <tr>\n",
       "      <th>3</th>\n",
       "      <td>2020-03-27 14:29:08</td>\n",
       "      <td>fpxv8h</td>\n",
       "      <td>24</td>\n",
       "      <td>360</td>\n",
       "      <td>0.94</td>\n",
       "      <td>360</td>\n",
       "      <td>0</td>\n",
       "      <td>Just me?</td>\n",
       "      <td>NaN</td>\n",
       "      <td>0</td>\n",
       "      <td>...</td>\n",
       "      <td>NaN</td>\n",
       "      <td>NaN</td>\n",
       "      <td>NaN</td>\n",
       "      <td>NaN</td>\n",
       "      <td>NaN</td>\n",
       "      <td>NaN</td>\n",
       "      <td>NaN</td>\n",
       "      <td>NaN</td>\n",
       "      <td>NaN</td>\n",
       "      <td>NaN</td>\n",
       "    </tr>\n",
       "    <tr>\n",
       "      <th>4</th>\n",
       "      <td>2020-02-26 18:00:17</td>\n",
       "      <td>f9x942</td>\n",
       "      <td>60</td>\n",
       "      <td>300</td>\n",
       "      <td>0.98</td>\n",
       "      <td>300</td>\n",
       "      <td>0</td>\n",
       "      <td>Monster of a weekly project done 😅</td>\n",
       "      <td>NaN</td>\n",
       "      <td>0</td>\n",
       "      <td>...</td>\n",
       "      <td>NaN</td>\n",
       "      <td>NaN</td>\n",
       "      <td>NaN</td>\n",
       "      <td>NaN</td>\n",
       "      <td>NaN</td>\n",
       "      <td>NaN</td>\n",
       "      <td>NaN</td>\n",
       "      <td>NaN</td>\n",
       "      <td>NaN</td>\n",
       "      <td>NaN</td>\n",
       "    </tr>\n",
       "    <tr>\n",
       "      <th>...</th>\n",
       "      <td>...</td>\n",
       "      <td>...</td>\n",
       "      <td>...</td>\n",
       "      <td>...</td>\n",
       "      <td>...</td>\n",
       "      <td>...</td>\n",
       "      <td>...</td>\n",
       "      <td>...</td>\n",
       "      <td>...</td>\n",
       "      <td>...</td>\n",
       "      <td>...</td>\n",
       "      <td>...</td>\n",
       "      <td>...</td>\n",
       "      <td>...</td>\n",
       "      <td>...</td>\n",
       "      <td>...</td>\n",
       "      <td>...</td>\n",
       "      <td>...</td>\n",
       "      <td>...</td>\n",
       "      <td>...</td>\n",
       "      <td>...</td>\n",
       "    </tr>\n",
       "    <tr>\n",
       "      <th>1909</th>\n",
       "      <td>2/9/20 18:09</td>\n",
       "      <td>f1cfwr</td>\n",
       "      <td>3</td>\n",
       "      <td>4</td>\n",
       "      <td>1.00</td>\n",
       "      <td>4</td>\n",
       "      <td>0</td>\n",
       "      <td>Looking for suggestions on my dilema</td>\n",
       "      <td>Hello,I am wanting to make a excel spreadsheet...</td>\n",
       "      <td>0</td>\n",
       "      <td>...</td>\n",
       "      <td>NaN</td>\n",
       "      <td>NaN</td>\n",
       "      <td>NaN</td>\n",
       "      <td>NaN</td>\n",
       "      <td>NaN</td>\n",
       "      <td>NaN</td>\n",
       "      <td>NaN</td>\n",
       "      <td>NaN</td>\n",
       "      <td>NaN</td>\n",
       "      <td>NaN</td>\n",
       "    </tr>\n",
       "    <tr>\n",
       "      <th>1910</th>\n",
       "      <td>2/3/20 20:41</td>\n",
       "      <td>eydk1i</td>\n",
       "      <td>4</td>\n",
       "      <td>3</td>\n",
       "      <td>0.81</td>\n",
       "      <td>3</td>\n",
       "      <td>0</td>\n",
       "      <td>Seeking help with calculating future date</td>\n",
       "      <td>I'm learning Excel as I go here, so I'm starti...</td>\n",
       "      <td>0</td>\n",
       "      <td>...</td>\n",
       "      <td>NaN</td>\n",
       "      <td>NaN</td>\n",
       "      <td>NaN</td>\n",
       "      <td>NaN</td>\n",
       "      <td>NaN</td>\n",
       "      <td>NaN</td>\n",
       "      <td>NaN</td>\n",
       "      <td>NaN</td>\n",
       "      <td>NaN</td>\n",
       "      <td>NaN</td>\n",
       "    </tr>\n",
       "    <tr>\n",
       "      <th>1911</th>\n",
       "      <td>12/20/19 21:21</td>\n",
       "      <td>edg9ol</td>\n",
       "      <td>4</td>\n",
       "      <td>5</td>\n",
       "      <td>1.00</td>\n",
       "      <td>5</td>\n",
       "      <td>0</td>\n",
       "      <td>Excel for the gym</td>\n",
       "      <td>I'm trying to put a gym routine on excel just ...</td>\n",
       "      <td>2</td>\n",
       "      <td>...</td>\n",
       "      <td>NaN</td>\n",
       "      <td>NaN</td>\n",
       "      <td>NaN</td>\n",
       "      <td>NaN</td>\n",
       "      <td>NaN</td>\n",
       "      <td>NaN</td>\n",
       "      <td>NaN</td>\n",
       "      <td>NaN</td>\n",
       "      <td>NaN</td>\n",
       "      <td>NaN</td>\n",
       "    </tr>\n",
       "    <tr>\n",
       "      <th>1912</th>\n",
       "      <td>12/10/19 16:25</td>\n",
       "      <td>e8ssxt</td>\n",
       "      <td>2</td>\n",
       "      <td>3</td>\n",
       "      <td>0.81</td>\n",
       "      <td>3</td>\n",
       "      <td>0</td>\n",
       "      <td>Color Formatting</td>\n",
       "      <td>Is there anyway I can change the color of a ce...</td>\n",
       "      <td>2</td>\n",
       "      <td>...</td>\n",
       "      <td>NaN</td>\n",
       "      <td>NaN</td>\n",
       "      <td>NaN</td>\n",
       "      <td>NaN</td>\n",
       "      <td>NaN</td>\n",
       "      <td>NaN</td>\n",
       "      <td>NaN</td>\n",
       "      <td>NaN</td>\n",
       "      <td>NaN</td>\n",
       "      <td>NaN</td>\n",
       "    </tr>\n",
       "    <tr>\n",
       "      <th>1913</th>\n",
       "      <td>3/29/20 5:05</td>\n",
       "      <td>fr0bua</td>\n",
       "      <td>1</td>\n",
       "      <td>3</td>\n",
       "      <td>1.00</td>\n",
       "      <td>3</td>\n",
       "      <td>0</td>\n",
       "      <td>Formulas/Graphs</td>\n",
       "      <td>\"Greetings!! I hope all is well. I wanted to k...</td>\n",
       "      <td>0</td>\n",
       "      <td>...</td>\n",
       "      <td>NaN</td>\n",
       "      <td>NaN</td>\n",
       "      <td>NaN</td>\n",
       "      <td>NaN</td>\n",
       "      <td>NaN</td>\n",
       "      <td>NaN</td>\n",
       "      <td>NaN</td>\n",
       "      <td>NaN</td>\n",
       "      <td>NaN</td>\n",
       "      <td>NaN</td>\n",
       "    </tr>\n",
       "  </tbody>\n",
       "</table>\n",
       "<p>1914 rows × 227 columns</p>\n",
       "</div>"
      ],
      "text/plain": [
       "                     date      id  no.Comments  score  upvote ratio  ups  \\\n",
       "0     2019-08-28 14:14:32  cwle38           48    637          0.98  637   \n",
       "1     2019-07-03 19:02:44  c8s3x2           15    448          0.97  448   \n",
       "2     2020-01-06 15:30:11  ekvldh           51    424          0.96  424   \n",
       "3     2020-03-27 14:29:08  fpxv8h           24    360          0.94  360   \n",
       "4     2020-02-26 18:00:17  f9x942           60    300          0.98  300   \n",
       "...                   ...     ...          ...    ...           ...  ...   \n",
       "1909         2/9/20 18:09  f1cfwr            3      4          1.00    4   \n",
       "1910         2/3/20 20:41  eydk1i            4      3          0.81    3   \n",
       "1911       12/20/19 21:21  edg9ol            4      5          1.00    5   \n",
       "1912       12/10/19 16:25  e8ssxt            2      3          0.81    3   \n",
       "1913         3/29/20 5:05  fr0bua            1      3          1.00    3   \n",
       "\n",
       "      downs                                              title  \\\n",
       "0         0  For anyone who's ever edited a video ever, enjoy.   \n",
       "1         0                                      Media Offline   \n",
       "2         0               Adobe Premiere youtuber starterpack.   \n",
       "3         0                                           Just me?   \n",
       "4         0                 Monster of a weekly project done 😅   \n",
       "...     ...                                                ...   \n",
       "1909      0               Looking for suggestions on my dilema   \n",
       "1910      0          Seeking help with calculating future date   \n",
       "1911      0                                  Excel for the gym   \n",
       "1912      0                                   Color Formatting   \n",
       "1913      0                                    Formulas/Graphs   \n",
       "\n",
       "                                               selftext  tag  ...  \\\n",
       "0                                                   NaN    0  ...   \n",
       "1                                                   NaN    1  ...   \n",
       "2                                                   NaN    0  ...   \n",
       "3                                                   NaN    0  ...   \n",
       "4                                                   NaN    0  ...   \n",
       "...                                                 ...  ...  ...   \n",
       "1909  Hello,I am wanting to make a excel spreadsheet...    0  ...   \n",
       "1910  I'm learning Excel as I go here, so I'm starti...    0  ...   \n",
       "1911  I'm trying to put a gym routine on excel just ...    2  ...   \n",
       "1912  Is there anyway I can change the color of a ce...    2  ...   \n",
       "1913  \"Greetings!! I hope all is well. I wanted to k...    0  ...   \n",
       "\n",
       "     Unnamed: 217 Unnamed: 218 Unnamed: 219 Unnamed: 220  Unnamed: 221  \\\n",
       "0             NaN          NaN          NaN          NaN           NaN   \n",
       "1             NaN          NaN          NaN          NaN           NaN   \n",
       "2             NaN          NaN          NaN          NaN           NaN   \n",
       "3             NaN          NaN          NaN          NaN           NaN   \n",
       "4             NaN          NaN          NaN          NaN           NaN   \n",
       "...           ...          ...          ...          ...           ...   \n",
       "1909          NaN          NaN          NaN          NaN           NaN   \n",
       "1910          NaN          NaN          NaN          NaN           NaN   \n",
       "1911          NaN          NaN          NaN          NaN           NaN   \n",
       "1912          NaN          NaN          NaN          NaN           NaN   \n",
       "1913          NaN          NaN          NaN          NaN           NaN   \n",
       "\n",
       "      Unnamed: 222 Unnamed: 223 Unnamed: 224 Unnamed: 225 Unnamed: 226  \n",
       "0              NaN          NaN          NaN          NaN          NaN  \n",
       "1              NaN          NaN          NaN          NaN          NaN  \n",
       "2              NaN          NaN          NaN          NaN          NaN  \n",
       "3              NaN          NaN          NaN          NaN          NaN  \n",
       "4              NaN          NaN          NaN          NaN          NaN  \n",
       "...            ...          ...          ...          ...          ...  \n",
       "1909           NaN          NaN          NaN          NaN          NaN  \n",
       "1910           NaN          NaN          NaN          NaN          NaN  \n",
       "1911           NaN          NaN          NaN          NaN          NaN  \n",
       "1912           NaN          NaN          NaN          NaN          NaN  \n",
       "1913           NaN          NaN          NaN          NaN          NaN  \n",
       "\n",
       "[1914 rows x 227 columns]"
      ]
     },
     "execution_count": 16,
     "metadata": {},
     "output_type": "execute_result"
    }
   ],
   "source": [
    "testable_dataset = pd.read_csv('../data/testable_dataset.csv')\n",
    "raw_dataset"
   ]
  },
  {
   "cell_type": "code",
   "execution_count": 54,
   "metadata": {},
   "outputs": [],
   "source": [
    "from sklearn.naive_bayes import GaussianNB,ComplementNB,BernoulliNB,CategoricalNB\n",
    "from sklearn.model_selection import train_test_split\n",
    "from sklearn import metrics\n",
    "from sklearn import svm\n",
    "import numpy as np\n",
    "from sklearn.ensemble import RandomForestClassifier\n",
    "from sklearn.utils import compute_class_weight\n",
    "from imblearn.over_sampling import SMOTE\n",
    "from sklearn.metrics import classification_report"
   ]
  },
  {
   "cell_type": "code",
   "execution_count": 55,
   "metadata": {},
   "outputs": [
    {
     "data": {
      "text/plain": [
       "array([0, 1, 2], dtype=int64)"
      ]
     },
     "execution_count": 55,
     "metadata": {},
     "output_type": "execute_result"
    }
   ],
   "source": [
    "trainable_dataset['tag'].unique()"
   ]
  },
  {
   "cell_type": "code",
   "execution_count": 56,
   "metadata": {},
   "outputs": [
    {
     "data": {
      "text/plain": [
       "0       0\n",
       "1       1\n",
       "2       0\n",
       "3       0\n",
       "4       0\n",
       "       ..\n",
       "1909    0\n",
       "1910    0\n",
       "1911    2\n",
       "1912    2\n",
       "1913    0\n",
       "Name: tag, Length: 1914, dtype: int64"
      ]
     },
     "execution_count": 56,
     "metadata": {},
     "output_type": "execute_result"
    }
   ],
   "source": [
    "X = trainable_dataset.iloc[:, 0:-1]\n",
    "y = trainable_dataset.iloc[:, -1]\n",
    "y\n"
   ]
  },
  {
   "cell_type": "code",
   "execution_count": 57,
   "metadata": {},
   "outputs": [],
   "source": [
    " X_train, X_test, y_train, y_test = train_test_split(X, y, test_size=0.1, random_state=42)"
   ]
  },
  {
   "cell_type": "code",
   "execution_count": 70,
   "metadata": {},
   "outputs": [
    {
     "data": {
      "text/plain": [
       "['0', '1', '2']"
      ]
     },
     "execution_count": 70,
     "metadata": {},
     "output_type": "execute_result"
    }
   ],
   "source": [
    "target_name=np.unique(y_train).tolist()\n",
    "# target_names=[\"1\",\"2\",\"0\"]\n",
    "target_names=[]\n",
    "for i in target_name:\n",
    "    target_names.append(str(i))\n",
    "target_names"
   ]
  },
  {
   "cell_type": "code",
   "execution_count": 59,
   "metadata": {},
   "outputs": [
    {
     "data": {
      "text/plain": [
       "array([0.72110553, 1.82222222, 0.93944354])"
      ]
     },
     "execution_count": 59,
     "metadata": {},
     "output_type": "execute_result"
    }
   ],
   "source": [
    "class_weights = compute_class_weight(class_weight='balanced',classes=np.unique(y_train),y=y_train)\n",
    "class_weights"
   ]
  },
  {
   "cell_type": "markdown",
   "metadata": {},
   "source": [
    "In the previous block you can see that our dataset is not balanced. At First we will train the models with imbalanced dataset"
   ]
  },
  {
   "cell_type": "markdown",
   "metadata": {},
   "source": [
    "### NB "
   ]
  },
  {
   "cell_type": "code",
   "execution_count": 22,
   "metadata": {},
   "outputs": [],
   "source": [
    "# NB=GaussianNB()\n",
    "NB=ComplementNB()\n",
    "# NB=BernoulliNB()\n",
    "# NB=CategoricalNB()\n"
   ]
  },
  {
   "cell_type": "code",
   "execution_count": 71,
   "metadata": {},
   "outputs": [
    {
     "name": "stdout",
     "output_type": "stream",
     "text": [
      "Number of mislabeled points out of a total 192 points : 68\n",
      "Accuracy: 0.6458333333333334\n",
      "              precision    recall  f1-score   support\n",
      "\n",
      "           0       0.74      0.67      0.70        95\n",
      "           1       0.60      0.64      0.62        42\n",
      "           2       0.55      0.60      0.57        55\n",
      "\n",
      "    accuracy                           0.65       192\n",
      "   macro avg       0.63      0.64      0.63       192\n",
      "weighted avg       0.65      0.65      0.65       192\n",
      "\n"
     ]
    }
   ],
   "source": [
    "y_pred = NB.fit(X_train, y_train).predict(X_test)\n",
    "print(\"Number of mislabeled points out of a total %d points : %d\"   % (X_test.shape[0], (y_test != y_pred).sum()))\n",
    "score=NB.score(X_test,y_test)\n",
    "print(\"Accuracy:\",metrics.accuracy_score(y_test, y_pred))\n",
    "print(classification_report(y_test, y_pred, target_names=target_names))"
   ]
  },
  {
   "cell_type": "markdown",
   "metadata": {},
   "source": [
    "### RF"
   ]
  },
  {
   "cell_type": "code",
   "execution_count": 72,
   "metadata": {},
   "outputs": [
    {
     "name": "stdout",
     "output_type": "stream",
     "text": [
      "Accuracy: 0.671875\n",
      "              precision    recall  f1-score   support\n",
      "\n",
      "           0       0.66      0.86      0.75        95\n",
      "           1       0.95      0.45      0.61        42\n",
      "           2       0.58      0.51      0.54        55\n",
      "\n",
      "    accuracy                           0.67       192\n",
      "   macro avg       0.73      0.61      0.64       192\n",
      "weighted avg       0.70      0.67      0.66       192\n",
      "\n"
     ]
    }
   ],
   "source": [
    "RF=RandomForestClassifier(n_estimators=100)\n",
    "RF.fit(X_train,y_train)\n",
    "y_pred=RF.predict(X_test)\n",
    "print(\"Accuracy:\",metrics.accuracy_score(y_test, y_pred))\n",
    "print(classification_report(y_test, y_pred, target_names=target_names))"
   ]
  },
  {
   "cell_type": "markdown",
   "metadata": {},
   "source": [
    "### SVM"
   ]
  },
  {
   "cell_type": "code",
   "execution_count": 25,
   "metadata": {},
   "outputs": [],
   "source": [
    "\n",
    "SVM = svm.SVC(kernel='linear', C=1, decision_function_shape='ovo') # Linear Kernel\n",
    "SVM.fit(X_train, y_train)\n",
    "y_pred = SVM.predict(X_test)\n"
   ]
  },
  {
   "cell_type": "code",
   "execution_count": 73,
   "metadata": {},
   "outputs": [
    {
     "name": "stdout",
     "output_type": "stream",
     "text": [
      "Accuracy: 0.671875\n",
      "              precision    recall  f1-score   support\n",
      "\n",
      "           0       0.66      0.86      0.75        95\n",
      "           1       0.95      0.45      0.61        42\n",
      "           2       0.58      0.51      0.54        55\n",
      "\n",
      "    accuracy                           0.67       192\n",
      "   macro avg       0.73      0.61      0.64       192\n",
      "weighted avg       0.70      0.67      0.66       192\n",
      "\n"
     ]
    }
   ],
   "source": [
    "print(\"Accuracy:\",metrics.accuracy_score(y_test, y_pred))\n",
    "print(classification_report(y_test, y_pred, target_names=target_names))"
   ]
  },
  {
   "cell_type": "markdown",
   "metadata": {},
   "source": [
    "Training the models with balanced dataset "
   ]
  },
  {
   "cell_type": "markdown",
   "metadata": {},
   "source": [
    "### SMOTE"
   ]
  },
  {
   "cell_type": "code",
   "execution_count": 27,
   "metadata": {},
   "outputs": [],
   "source": [
    "sm = SMOTE(random_state = 2)"
   ]
  },
  {
   "cell_type": "code",
   "execution_count": 28,
   "metadata": {},
   "outputs": [],
   "source": [
    "X_train_res, y_train_res = sm.fit_resample(X_train, y_train.ravel())"
   ]
  },
  {
   "cell_type": "code",
   "execution_count": 29,
   "metadata": {},
   "outputs": [
    {
     "data": {
      "text/plain": [
       "array([1., 1., 1.])"
      ]
     },
     "execution_count": 29,
     "metadata": {},
     "output_type": "execute_result"
    }
   ],
   "source": [
    "class_weights = compute_class_weight(class_weight='balanced',classes=np.unique(y_train_res),y=y_train_res)\n",
    "class_weights"
   ]
  },
  {
   "cell_type": "markdown",
   "metadata": {},
   "source": [
    "From here you can see that our dataset is now balanced dataset"
   ]
  },
  {
   "cell_type": "markdown",
   "metadata": {},
   "source": [
    "### NB "
   ]
  },
  {
   "cell_type": "code",
   "execution_count": 30,
   "metadata": {},
   "outputs": [],
   "source": [
    "# NB=GaussianNB()\n",
    "NB_balance=ComplementNB()\n",
    "# NB=BernoulliNB()\n",
    "# NB=CategoricalNB()\n"
   ]
  },
  {
   "cell_type": "code",
   "execution_count": 74,
   "metadata": {},
   "outputs": [
    {
     "name": "stdout",
     "output_type": "stream",
     "text": [
      "Number of mislabeled points out of a total 192 points : 71\n",
      "Accuracy: 0.6302083333333334\n",
      "              precision    recall  f1-score   support\n",
      "\n",
      "           0       0.78      0.65      0.71        95\n",
      "           1       0.51      0.76      0.61        42\n",
      "           2       0.55      0.49      0.52        55\n",
      "\n",
      "    accuracy                           0.63       192\n",
      "   macro avg       0.61      0.64      0.61       192\n",
      "weighted avg       0.65      0.63      0.63       192\n",
      "\n"
     ]
    }
   ],
   "source": [
    "y_pred = NB_balance.fit(X_train_res, y_train_res).predict(X_test)\n",
    "print(\"Number of mislabeled points out of a total %d points : %d\"   % (X_test.shape[0], (y_test != y_pred).sum()))\n",
    "score=NB_balance.score(X_test,y_test)\n",
    "print(\"Accuracy:\",metrics.accuracy_score(y_test, y_pred))\n",
    "print(classification_report(y_test, y_pred, target_names=target_names))"
   ]
  },
  {
   "cell_type": "markdown",
   "metadata": {},
   "source": [
    "### RF"
   ]
  },
  {
   "cell_type": "code",
   "execution_count": 75,
   "metadata": {},
   "outputs": [
    {
     "name": "stdout",
     "output_type": "stream",
     "text": [
      "Accuracy: 0.6822916666666666\n",
      "              precision    recall  f1-score   support\n",
      "\n",
      "           0       0.68      0.85      0.76        95\n",
      "           1       0.73      0.45      0.56        42\n",
      "           2       0.66      0.56      0.61        55\n",
      "\n",
      "    accuracy                           0.68       192\n",
      "   macro avg       0.69      0.62      0.64       192\n",
      "weighted avg       0.69      0.68      0.67       192\n",
      "\n"
     ]
    }
   ],
   "source": [
    "RF_balance=RandomForestClassifier(n_estimators=100)\n",
    "RF_balance.fit(X_train_res,y_train_res)\n",
    "y_pred=RF_balance.predict(X_test)\n",
    "print(\"Accuracy:\",metrics.accuracy_score(y_test, y_pred))\n",
    "print(classification_report(y_test, y_pred, target_names=target_names))"
   ]
  },
  {
   "cell_type": "markdown",
   "metadata": {},
   "source": [
    "### SVM"
   ]
  },
  {
   "cell_type": "code",
   "execution_count": 76,
   "metadata": {},
   "outputs": [
    {
     "name": "stdout",
     "output_type": "stream",
     "text": [
      "Accuracy: 0.6614583333333334\n",
      "              precision    recall  f1-score   support\n",
      "\n",
      "           0       0.69      0.74      0.71        95\n",
      "           1       0.71      0.64      0.67        42\n",
      "           2       0.57      0.55      0.56        55\n",
      "\n",
      "    accuracy                           0.66       192\n",
      "   macro avg       0.66      0.64      0.65       192\n",
      "weighted avg       0.66      0.66      0.66       192\n",
      "\n"
     ]
    }
   ],
   "source": [
    "\n",
    "SVM_balance = svm.SVC(kernel='linear', C=1, decision_function_shape='ovo') # Linear Kernel\n",
    "SVM_balance.fit(X_train_res, y_train_res)\n",
    "y_pred = SVM_balance.predict(X_test)\n",
    "print(\"Accuracy:\",metrics.accuracy_score(y_test, y_pred))\n",
    "print(classification_report(y_test, y_pred, target_names=target_names))"
   ]
  },
  {
   "cell_type": "markdown",
   "metadata": {},
   "source": [
    " ### Testing with our dataset"
   ]
  },
  {
   "cell_type": "code",
   "execution_count": 39,
   "metadata": {},
   "outputs": [],
   "source": [
    "our_test_X = testable_dataset.iloc[:, 0:-1]\n",
    "our_test_y = testable_dataset.iloc[:, -1]"
   ]
  },
  {
   "cell_type": "markdown",
   "metadata": {},
   "source": [
    "### Test NB with our Dataset"
   ]
  },
  {
   "cell_type": "code",
   "execution_count": 77,
   "metadata": {},
   "outputs": [
    {
     "name": "stdout",
     "output_type": "stream",
     "text": [
      "Accuracy: 0.65\n",
      "              precision    recall  f1-score   support\n",
      "\n",
      "           0       0.70      0.97      0.81        38\n",
      "           1       0.20      0.17      0.18         6\n",
      "           2       0.50      0.06      0.11        16\n",
      "\n",
      "    accuracy                           0.65        60\n",
      "   macro avg       0.47      0.40      0.37        60\n",
      "weighted avg       0.60      0.65      0.56        60\n",
      "\n"
     ]
    }
   ],
   "source": [
    "y_pred = NB.predict(our_test_X)\n",
    "print(\"Accuracy:\",metrics.accuracy_score(our_test_y, y_pred))\n",
    "print(classification_report(our_test_y, y_pred, target_names=target_names))"
   ]
  },
  {
   "cell_type": "markdown",
   "metadata": {},
   "source": [
    "### Test RF with our Dataset"
   ]
  },
  {
   "cell_type": "code",
   "execution_count": 78,
   "metadata": {},
   "outputs": [
    {
     "name": "stdout",
     "output_type": "stream",
     "text": [
      "Accuracy: 0.7\n",
      "              precision    recall  f1-score   support\n",
      "\n",
      "           0       0.72      1.00      0.84        38\n",
      "           1       0.00      0.00      0.00         6\n",
      "           2       0.67      0.25      0.36        16\n",
      "\n",
      "    accuracy                           0.70        60\n",
      "   macro avg       0.46      0.42      0.40        60\n",
      "weighted avg       0.63      0.70      0.63        60\n",
      "\n"
     ]
    }
   ],
   "source": [
    "y_pred=RF.predict(our_test_X)\n",
    "print(\"Accuracy:\",metrics.accuracy_score(our_test_y, y_pred))\n",
    "print(classification_report(our_test_y, y_pred, target_names=target_names))"
   ]
  },
  {
   "cell_type": "markdown",
   "metadata": {},
   "source": [
    "### Test SVM with our Dataset"
   ]
  },
  {
   "cell_type": "code",
   "execution_count": 79,
   "metadata": {},
   "outputs": [
    {
     "name": "stdout",
     "output_type": "stream",
     "text": [
      "Accuracy: 0.6333333333333333\n",
      "              precision    recall  f1-score   support\n",
      "\n",
      "           0       0.72      0.89      0.80        38\n",
      "           1       0.00      0.00      0.00         6\n",
      "           2       0.40      0.25      0.31        16\n",
      "\n",
      "    accuracy                           0.63        60\n",
      "   macro avg       0.37      0.38      0.37        60\n",
      "weighted avg       0.56      0.63      0.59        60\n",
      "\n"
     ]
    }
   ],
   "source": [
    "y_pred = SVM.predict(our_test_X)\n",
    "print(\"Accuracy:\",metrics.accuracy_score(our_test_y,y_pred ))\n",
    "print(classification_report(our_test_y, y_pred, target_names=target_names))"
   ]
  },
  {
   "cell_type": "markdown",
   "metadata": {},
   "source": [
    "### Test Smote NB with our Dtaset"
   ]
  },
  {
   "cell_type": "code",
   "execution_count": 80,
   "metadata": {},
   "outputs": [
    {
     "name": "stdout",
     "output_type": "stream",
     "text": [
      "Accuracy: 0.6666666666666666\n",
      "              precision    recall  f1-score   support\n",
      "\n",
      "           0       0.70      0.97      0.81        38\n",
      "           1       0.33      0.33      0.33         6\n",
      "           2       1.00      0.06      0.12        16\n",
      "\n",
      "    accuracy                           0.67        60\n",
      "   macro avg       0.68      0.46      0.42        60\n",
      "weighted avg       0.74      0.67      0.58        60\n",
      "\n"
     ]
    }
   ],
   "source": [
    "y_pred = NB_balance.predict(our_test_X)\n",
    "print(\"Accuracy:\",metrics.accuracy_score(our_test_y, y_pred))\n",
    "print(classification_report(our_test_y, y_pred, target_names=target_names))"
   ]
  },
  {
   "cell_type": "markdown",
   "metadata": {},
   "source": [
    "### Test Smote RF with our Dataset"
   ]
  },
  {
   "cell_type": "code",
   "execution_count": 81,
   "metadata": {},
   "outputs": [
    {
     "name": "stdout",
     "output_type": "stream",
     "text": [
      "Accuracy: 0.7\n",
      "              precision    recall  f1-score   support\n",
      "\n",
      "           0       0.72      1.00      0.84        38\n",
      "           1       0.00      0.00      0.00         6\n",
      "           2       0.67      0.25      0.36        16\n",
      "\n",
      "    accuracy                           0.70        60\n",
      "   macro avg       0.46      0.42      0.40        60\n",
      "weighted avg       0.63      0.70      0.63        60\n",
      "\n"
     ]
    }
   ],
   "source": [
    "y_pred=RF_balance.predict(our_test_X)\n",
    "print(\"Accuracy:\",metrics.accuracy_score(our_test_y, y_pred))\n",
    "print(classification_report(our_test_y, y_pred, target_names=target_names))"
   ]
  },
  {
   "cell_type": "markdown",
   "metadata": {},
   "source": [
    "### Test Smote SVM with our Dataset"
   ]
  },
  {
   "cell_type": "code",
   "execution_count": 82,
   "metadata": {},
   "outputs": [
    {
     "name": "stdout",
     "output_type": "stream",
     "text": [
      "Accuracy: 0.6166666666666667\n",
      "              precision    recall  f1-score   support\n",
      "\n",
      "           0       0.72      0.87      0.79        38\n",
      "           1       0.00      0.00      0.00         6\n",
      "           2       0.40      0.25      0.31        16\n",
      "\n",
      "    accuracy                           0.62        60\n",
      "   macro avg       0.37      0.37      0.36        60\n",
      "weighted avg       0.56      0.62      0.58        60\n",
      "\n"
     ]
    }
   ],
   "source": [
    "y_pred = SVM_balance.predict(our_test_X)\n",
    "print(\"Accuracy:\",metrics.accuracy_score(our_test_y, y_pred))\n",
    "print(classification_report(our_test_y, y_pred, target_names=target_names))"
   ]
  },
  {
   "cell_type": "code",
   "execution_count": null,
   "metadata": {},
   "outputs": [],
   "source": []
  },
  {
   "cell_type": "code",
   "execution_count": null,
   "metadata": {},
   "outputs": [],
   "source": []
  }
 ],
 "metadata": {
  "kernelspec": {
   "display_name": "Python 3 (ipykernel)",
   "language": "python",
   "name": "python3"
  },
  "language_info": {
   "codemirror_mode": {
    "name": "ipython",
    "version": 3
   },
   "file_extension": ".py",
   "mimetype": "text/x-python",
   "name": "python",
   "nbconvert_exporter": "python",
   "pygments_lexer": "ipython3",
   "version": "3.9.5"
  },
  "vscode": {
   "interpreter": {
    "hash": "f6870690490e3c0b79a7286ec00ecb825c75548ae32182ac36fecd476740644e"
   }
  }
 },
 "nbformat": 4,
 "nbformat_minor": 2
}
