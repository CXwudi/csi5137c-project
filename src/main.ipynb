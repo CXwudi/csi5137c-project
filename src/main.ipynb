{
 "cells": [
  {
   "cell_type": "code",
   "execution_count": 3,
   "metadata": {},
   "outputs": [
    {
     "name": "stdout",
     "output_type": "stream",
     "text": [
      "Requirement already satisfied: nltk in /home/linuxbrew/.linuxbrew/lib/python3.10/site-packages (from -r ../requirements.txt (line 1)) (3.7)\n",
      "Requirement already satisfied: numpy in /home/linuxbrew/.linuxbrew/lib/python3.10/site-packages (from -r ../requirements.txt (line 2)) (1.23.5)\n",
      "Requirement already satisfied: joblib in /home/linuxbrew/.linuxbrew/lib/python3.10/site-packages (from nltk->-r ../requirements.txt (line 1)) (1.2.0)\n",
      "Requirement already satisfied: regex>=2021.8.3 in /home/linuxbrew/.linuxbrew/lib/python3.10/site-packages (from nltk->-r ../requirements.txt (line 1)) (2022.10.31)\n",
      "Requirement already satisfied: tqdm in /home/linuxbrew/.linuxbrew/lib/python3.10/site-packages (from nltk->-r ../requirements.txt (line 1)) (4.64.1)\n",
      "Requirement already satisfied: click in /home/linuxbrew/.linuxbrew/lib/python3.10/site-packages (from nltk->-r ../requirements.txt (line 1)) (8.1.3)\n"
     ]
    }
   ],
   "source": [
    "# Install pip packages from requirements.txt into this current Jupyter kernel\n",
    "import sys\n",
    "!{sys.executable} -m pip install -r ../requirements.txt"
   ]
  }
 ],
 "metadata": {
  "kernelspec": {
   "display_name": "Python 3.10.8 64-bit",
   "language": "python",
   "name": "python3"
  },
  "language_info": {
   "codemirror_mode": {
    "name": "ipython",
    "version": 3
   },
   "file_extension": ".py",
   "mimetype": "text/x-python",
   "name": "python",
   "nbconvert_exporter": "python",
   "pygments_lexer": "ipython3",
   "version": "3.10.8"
  },
  "orig_nbformat": 4,
  "vscode": {
   "interpreter": {
    "hash": "7d6993cb2f9ce9a59d5d7380609d9cb5192a9dedd2735a011418ad9e827eb538"
   }
  }
 },
 "nbformat": 4,
 "nbformat_minor": 2
}
