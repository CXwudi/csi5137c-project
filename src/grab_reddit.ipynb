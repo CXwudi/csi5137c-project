{
 "cells": [
  {
   "cell_type": "code",
   "execution_count": 1,
   "metadata": {},
   "outputs": [
    {
     "name": "stdout",
     "output_type": "stream",
     "text": [
      "Requirement already satisfied: nltk in /home/linuxbrew/.linuxbrew/lib/python3.10/site-packages (from -r requirements.txt (line 1)) (3.7)\n",
      "Requirement already satisfied: numpy in /home/cxwudi/.local/lib/python3.10/site-packages (from -r requirements.txt (line 2)) (1.22.2)\n",
      "Requirement already satisfied: pandas in /home/cxwudi/.local/lib/python3.10/site-packages (from -r requirements.txt (line 3)) (1.4.1)\n",
      "Requirement already satisfied: pyspellchecker in /home/linuxbrew/.linuxbrew/lib/python3.10/site-packages (from -r requirements.txt (line 4)) (0.7.0)\n",
      "Requirement already satisfied: emoji in /home/linuxbrew/.linuxbrew/lib/python3.10/site-packages (from -r requirements.txt (line 5)) (2.2.0)\n",
      "Requirement already satisfied: praw in /home/linuxbrew/.linuxbrew/lib/python3.10/site-packages (from -r requirements.txt (line 6)) (7.6.1)\n",
      "Requirement already satisfied: scikit-learn in /home/linuxbrew/.linuxbrew/lib/python3.10/site-packages (from -r requirements.txt (line 7)) (1.2.0)\n",
      "Requirement already satisfied: imbalanced-learn in /home/linuxbrew/.linuxbrew/lib/python3.10/site-packages (from -r requirements.txt (line 8)) (0.10.0)\n",
      "Requirement already satisfied: regex>=2021.8.3 in /home/linuxbrew/.linuxbrew/lib/python3.10/site-packages (from nltk->-r requirements.txt (line 1)) (2022.9.13)\n",
      "Requirement already satisfied: joblib in /home/linuxbrew/.linuxbrew/lib/python3.10/site-packages (from nltk->-r requirements.txt (line 1)) (1.2.0)\n",
      "Requirement already satisfied: click in /home/cxwudi/.local/lib/python3.10/site-packages (from nltk->-r requirements.txt (line 1)) (8.0.4)\n",
      "Requirement already satisfied: tqdm in /home/linuxbrew/.linuxbrew/lib/python3.10/site-packages (from nltk->-r requirements.txt (line 1)) (4.64.1)\n",
      "Requirement already satisfied: python-dateutil>=2.8.1 in /home/cxwudi/.local/lib/python3.10/site-packages (from pandas->-r requirements.txt (line 3)) (2.8.2)\n",
      "Requirement already satisfied: pytz>=2020.1 in /home/cxwudi/.local/lib/python3.10/site-packages (from pandas->-r requirements.txt (line 3)) (2021.3)\n",
      "Requirement already satisfied: websocket-client>=0.54.0 in /home/linuxbrew/.linuxbrew/lib/python3.10/site-packages (from praw->-r requirements.txt (line 6)) (1.4.2)\n",
      "Requirement already satisfied: update-checker>=0.18 in /home/linuxbrew/.linuxbrew/lib/python3.10/site-packages (from praw->-r requirements.txt (line 6)) (0.18.0)\n",
      "Requirement already satisfied: prawcore<3,>=2.1 in /home/linuxbrew/.linuxbrew/lib/python3.10/site-packages (from praw->-r requirements.txt (line 6)) (2.3.0)\n",
      "Requirement already satisfied: scipy>=1.3.2 in /home/linuxbrew/.linuxbrew/lib/python3.10/site-packages (from scikit-learn->-r requirements.txt (line 7)) (1.9.3)\n",
      "Requirement already satisfied: threadpoolctl>=2.0.0 in /home/linuxbrew/.linuxbrew/lib/python3.10/site-packages (from scikit-learn->-r requirements.txt (line 7)) (3.1.0)\n",
      "Requirement already satisfied: requests<3.0,>=2.6.0 in /home/cxwudi/.local/lib/python3.10/site-packages (from prawcore<3,>=2.1->praw->-r requirements.txt (line 6)) (2.28.0)\n",
      "Requirement already satisfied: six>=1.5 in /home/cxwudi/.local/lib/python3.10/site-packages (from python-dateutil>=2.8.1->pandas->-r requirements.txt (line 3)) (1.16.0)\n",
      "Requirement already satisfied: urllib3<1.27,>=1.21.1 in /home/cxwudi/.local/lib/python3.10/site-packages (from requests<3.0,>=2.6.0->prawcore<3,>=2.1->praw->-r requirements.txt (line 6)) (1.26.9)\n",
      "Requirement already satisfied: charset-normalizer~=2.0.0 in /home/cxwudi/.local/lib/python3.10/site-packages (from requests<3.0,>=2.6.0->prawcore<3,>=2.1->praw->-r requirements.txt (line 6)) (2.0.12)\n",
      "Requirement already satisfied: certifi>=2017.4.17 in /home/cxwudi/.local/lib/python3.10/site-packages (from requests<3.0,>=2.6.0->prawcore<3,>=2.1->praw->-r requirements.txt (line 6)) (2022.6.15)\n",
      "Requirement already satisfied: idna<4,>=2.5 in /home/cxwudi/.local/lib/python3.10/site-packages (from requests<3.0,>=2.6.0->prawcore<3,>=2.1->praw->-r requirements.txt (line 6)) (3.3)\n"
     ]
    }
   ],
   "source": [
    "# Install pip packages from requirements.txt into this current Jupyter kernel\n",
    "import sys\n",
    "!{sys.executable} -m pip install -r requirements.txt\n",
    "import pandas as pd\n",
    "import praw"
   ]
  },
  {
   "cell_type": "code",
   "execution_count": 2,
   "metadata": {},
   "outputs": [
    {
     "name": "stdout",
     "output_type": "stream",
     "text": [
      "Now open this url in your browser: https://www.reddit.com/api/v1/authorize?client_id=vhyGsaPnkmH5XDV5MwEJmg&duration=permanent&redirect_uri=http%3A%2F%2Flocalhost%3A51373&response_type=code&scope=%2A&state=35604\n",
      "Refresh token: 130190902974-MLEOZ1SJwU8WBYOzndK6jqoX9wWlig\n"
     ]
    }
   ],
   "source": [
    "from modules.get_reddit_refresh_token import get_token\n",
    "reddit = praw.Reddit(\n",
    "  client_id=\"vhyGsaPnkmH5XDV5MwEJmg\",\n",
    "  client_secret=\"Qq9GYZ1nCMF8en3zuqsEryIg4-kqMw\",\n",
    "  user_agent=\"CSI5137C-Project-Agent\",\n",
    "  redirect_uri=\"http://localhost:51373\",\n",
    ")\n",
    "refresh_token = get_token(reddit = reddit, local_port = 51373)"
   ]
  },
  {
   "cell_type": "code",
   "execution_count": 3,
   "metadata": {},
   "outputs": [
    {
     "name": "stdout",
     "output_type": "stream",
     "text": [
      "CXwudi\n"
     ]
    }
   ],
   "source": [
    "print(reddit.user.me())"
   ]
  },
  {
   "cell_type": "code",
   "execution_count": 4,
   "metadata": {},
   "outputs": [
    {
     "data": {
      "text/html": [
       "<div>\n",
       "<style scoped>\n",
       "    .dataframe tbody tr th:only-of-type {\n",
       "        vertical-align: middle;\n",
       "    }\n",
       "\n",
       "    .dataframe tbody tr th {\n",
       "        vertical-align: top;\n",
       "    }\n",
       "\n",
       "    .dataframe thead th {\n",
       "        text-align: right;\n",
       "    }\n",
       "</style>\n",
       "<table border=\"1\" class=\"dataframe\">\n",
       "  <thead>\n",
       "    <tr style=\"text-align: right;\">\n",
       "      <th></th>\n",
       "      <th>no.Comments</th>\n",
       "      <th>ups</th>\n",
       "      <th>title</th>\n",
       "      <th>selftext</th>\n",
       "      <th>comments</th>\n",
       "    </tr>\n",
       "  </thead>\n",
       "  <tbody>\n",
       "    <tr>\n",
       "      <th>0</th>\n",
       "      <td>1</td>\n",
       "      <td>29</td>\n",
       "      <td>LibreOffice 7.2 RC1 is available - Help to tes...</td>\n",
       "      <td></td>\n",
       "      <td>[Dark mode 🙃]</td>\n",
       "    </tr>\n",
       "    <tr>\n",
       "      <th>0</th>\n",
       "      <td>7</td>\n",
       "      <td>32</td>\n",
       "      <td>LibreOffice 7.3.2 released, with over 80 bugfi...</td>\n",
       "      <td></td>\n",
       "      <td>[[deleted], How can I get the arm version ? I ...</td>\n",
       "    </tr>\n",
       "    <tr>\n",
       "      <th>0</th>\n",
       "      <td>5</td>\n",
       "      <td>36</td>\n",
       "      <td>Open Letter to Apache OpenOffice - The Documen...</td>\n",
       "      <td></td>\n",
       "      <td>[Everyone knows Libre have taken the torch. Ap...</td>\n",
       "    </tr>\n",
       "    <tr>\n",
       "      <th>0</th>\n",
       "      <td>0</td>\n",
       "      <td>48</td>\n",
       "      <td>City of Rome begins making LibreOffice the def...</td>\n",
       "      <td></td>\n",
       "      <td>[]</td>\n",
       "    </tr>\n",
       "    <tr>\n",
       "      <th>0</th>\n",
       "      <td>29</td>\n",
       "      <td>53</td>\n",
       "      <td>LibreOffice 7.0.2 available, with over 130 bug...</td>\n",
       "      <td></td>\n",
       "      <td>[Any plans for touchscreen support? Simple scr...</td>\n",
       "    </tr>\n",
       "    <tr>\n",
       "      <th>...</th>\n",
       "      <td>...</td>\n",
       "      <td>...</td>\n",
       "      <td>...</td>\n",
       "      <td>...</td>\n",
       "      <td>...</td>\n",
       "    </tr>\n",
       "    <tr>\n",
       "      <th>0</th>\n",
       "      <td>13</td>\n",
       "      <td>9</td>\n",
       "      <td>how to record computer audio wasapi and mic (w...</td>\n",
       "      <td>I tried following these steps but when I reco...</td>\n",
       "      <td>[&gt;Select Your default playback Device (Headpho...</td>\n",
       "    </tr>\n",
       "    <tr>\n",
       "      <th>0</th>\n",
       "      <td>0</td>\n",
       "      <td>20</td>\n",
       "      <td>Audacity 2.4.1 is out. Multiproject bug has be...</td>\n",
       "      <td></td>\n",
       "      <td>[]</td>\n",
       "    </tr>\n",
       "    <tr>\n",
       "      <th>0</th>\n",
       "      <td>1</td>\n",
       "      <td>9</td>\n",
       "      <td>What are your best little known tips in Audacity?</td>\n",
       "      <td></td>\n",
       "      <td>[Are you looking for any in particularity? ]</td>\n",
       "    </tr>\n",
       "    <tr>\n",
       "      <th>0</th>\n",
       "      <td>32</td>\n",
       "      <td>13</td>\n",
       "      <td>is Audacity still licensed under GPLv2?</td>\n",
       "      <td>The reason I'm asking this is because their pr...</td>\n",
       "      <td>[They're trying to change the license to GPLv3...</td>\n",
       "    </tr>\n",
       "    <tr>\n",
       "      <th>0</th>\n",
       "      <td>8</td>\n",
       "      <td>19</td>\n",
       "      <td>Please help! My grandpa passed away a few hour...</td>\n",
       "      <td>On my quest to figure out a way to recover thi...</td>\n",
       "      <td>[Hey. I'm sorry for your loss. The audio has a...</td>\n",
       "    </tr>\n",
       "  </tbody>\n",
       "</table>\n",
       "<p>120 rows × 5 columns</p>\n",
       "</div>"
      ],
      "text/plain": [
       "   no.Comments ups                                              title  \\\n",
       "0            1  29  LibreOffice 7.2 RC1 is available - Help to tes...   \n",
       "0            7  32  LibreOffice 7.3.2 released, with over 80 bugfi...   \n",
       "0            5  36  Open Letter to Apache OpenOffice - The Documen...   \n",
       "0            0  48  City of Rome begins making LibreOffice the def...   \n",
       "0           29  53  LibreOffice 7.0.2 available, with over 130 bug...   \n",
       "..         ...  ..                                                ...   \n",
       "0           13   9  how to record computer audio wasapi and mic (w...   \n",
       "0            0  20  Audacity 2.4.1 is out. Multiproject bug has be...   \n",
       "0            1   9  What are your best little known tips in Audacity?   \n",
       "0           32  13            is Audacity still licensed under GPLv2?   \n",
       "0            8  19  Please help! My grandpa passed away a few hour...   \n",
       "\n",
       "                                             selftext  \\\n",
       "0                                                       \n",
       "0                                                       \n",
       "0                                                       \n",
       "0                                                       \n",
       "0                                                       \n",
       "..                                                ...   \n",
       "0    I tried following these steps but when I reco...   \n",
       "0                                                       \n",
       "0                                                       \n",
       "0   The reason I'm asking this is because their pr...   \n",
       "0   On my quest to figure out a way to recover thi...   \n",
       "\n",
       "                                             comments  \n",
       "0                                       [Dark mode 🙃]  \n",
       "0   [[deleted], How can I get the arm version ? I ...  \n",
       "0   [Everyone knows Libre have taken the torch. Ap...  \n",
       "0                                                  []  \n",
       "0   [Any plans for touchscreen support? Simple scr...  \n",
       "..                                                ...  \n",
       "0   [>Select Your default playback Device (Headpho...  \n",
       "0                                                  []  \n",
       "0        [Are you looking for any in particularity? ]  \n",
       "0   [They're trying to change the license to GPLv3...  \n",
       "0   [Hey. I'm sorry for your loss. The audio has a...  \n",
       "\n",
       "[120 rows x 5 columns]"
      ]
     },
     "execution_count": 4,
     "metadata": {},
     "output_type": "execute_result"
    }
   ],
   "source": [
    "from modules.get_reddit_post import get_post_from\n",
    "# taken from https://www.techradar.com/best/best-open-source-software\n",
    "softwares = ['libreoffice', 'VLC', 'GIMP', 'shotcut', 'brave_browser', 'audacity']\n",
    "df = pd.DataFrame()\n",
    "for s in softwares:\n",
    "  df = pd.concat([df, get_post_from(reddit, s, 20, 100)])\n",
    "df"
   ]
  },
  {
   "cell_type": "code",
   "execution_count": 5,
   "metadata": {},
   "outputs": [],
   "source": [
    "df.to_csv('../data/out_test_data.csv', index=False)"
   ]
  }
 ],
 "metadata": {
  "kernelspec": {
   "display_name": "Python 3",
   "language": "python",
   "name": "python3"
  },
  "language_info": {
   "codemirror_mode": {
    "name": "ipython",
    "version": 3
   },
   "file_extension": ".py",
   "mimetype": "text/x-python",
   "name": "python",
   "nbconvert_exporter": "python",
   "pygments_lexer": "ipython3",
   "version": "3.10.8"
  },
  "orig_nbformat": 4,
  "vscode": {
   "interpreter": {
    "hash": "f6870690490e3c0b79a7286ec00ecb825c75548ae32182ac36fecd476740644e"
   }
  }
 },
 "nbformat": 4,
 "nbformat_minor": 2
}
